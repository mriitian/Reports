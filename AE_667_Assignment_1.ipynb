{
  "nbformat": 4,
  "nbformat_minor": 0,
  "metadata": {
    "colab": {
      "provenance": [],
      "authorship_tag": "ABX9TyNqNXmTZwrJjc1KcPPZKhMt",
      "include_colab_link": true
    },
    "kernelspec": {
      "name": "python3",
      "display_name": "Python 3"
    },
    "language_info": {
      "name": "python"
    }
  },
  "cells": [
    {
      "cell_type": "markdown",
      "metadata": {
        "id": "view-in-github",
        "colab_type": "text"
      },
      "source": [
        "<a href=\"https://colab.research.google.com/github/mriitian/Reports/blob/main/AE_667_Assignment_1.ipynb\" target=\"_parent\"><img src=\"https://colab.research.google.com/assets/colab-badge.svg\" alt=\"Open In Colab\"/></a>"
      ]
    },
    {
      "cell_type": "markdown",
      "source": [
        "## Goals of Assignment 1\n",
        "- Initiating the development of performance estimator tool and mission planner, with physics of hover and climb modes, and provision for future inclusion of other flight modes. (team effort)\n",
        "- First-cut design of helicopter rotor(s) necessary for hover and climb modes using the developed tools. (individual effort)\n",
        "\n",
        "## Teammates:\n",
        "- Sahil R Patil\n",
        "- Pritesh Dhakate\n",
        "- Vedant Ganesh Parkhe\n",
        "- Malavath Akshara Naik\n"
      ],
      "metadata": {
        "id": "1QdlcJ429nQN"
      }
    },
    {
      "cell_type": "code",
      "source": [
        "import numpy as np\n",
        "import matplotlib.pyplot as plt\n"
      ],
      "metadata": {
        "id": "cErUNIrO9nuF"
      },
      "execution_count": null,
      "outputs": []
    },
    {
      "cell_type": "code",
      "source": [
        "# Define constants\n",
        "R = 287.05             # J/(kg*K) - gas constant for air\n",
        "gamma = 1.4            # ratio of specific heats\n",
        "g = 9.81               # m/s^2\n",
        "T0 = 288.15            # K - ISA sea level temp\n",
        "p0 = 101325            # Pa - ISA sea level pressure\n",
        "rho0 = 1.225           # kg/m3 - ISA sea level density\n",
        "a0 = 340.3             # m/s - speed of sound at sea level"
      ],
      "metadata": {
        "id": "1CQAq-IW_4vz"
      },
      "execution_count": null,
      "outputs": []
    },
    {
      "cell_type": "code",
      "source": [
        "# -------------------------------\n",
        "# Part 2: Atmosphere Model\n",
        "# -------------------------------\n",
        "def atmosphere(altitude):\n",
        "    \"\"\"\n",
        "    Computes temperature, pressure, density, and speed of sound\n",
        "    at a given altitude using ISA model (up to ~11 km).\n",
        "\n",
        "    Inputs:\n",
        "        altitude (m)\n",
        "    Returns:\n",
        "        T (K), p (Pa), rho (kg/m3), a (m/s)\n",
        "    \"\"\"\n",
        "    # Troposphere (up to 11 km)\n",
        "    L = -0.0065  # temperature lapse rate (K/m)\n",
        "    if altitude <= 11000:\n",
        "        T = T0 + L * altitude\n",
        "        p = p0 * (T / T0) ** (-g / (L * R))\n",
        "    else:\n",
        "        raise ValueError(\"Model only valid up to 11 km (for now).\")\n",
        "\n",
        "    rho = p / (R * T)\n",
        "    a = np.sqrt(gamma * R * T)\n",
        "    return T, p, rho, a"
      ],
      "metadata": {
        "id": "3CvsbDIRPYGm"
      },
      "execution_count": null,
      "outputs": []
    },
    {
      "cell_type": "code",
      "source": [
        "# -------------------------------\n",
        "# Part 3: Airfoil Model\n",
        "# -------------------------------\n",
        "def airfoil_coeff(alpha_rad):\n",
        "    \"\"\"\n",
        "    Returns Cl and Cd for the airfoil used in Knight & Hefner (1937).\n",
        "\n",
        "    Inputs:\n",
        "        alpha_rad : angle of attack in radians\n",
        "\n",
        "    Returns:\n",
        "        Cl, Cd\n",
        "    \"\"\"\n",
        "    alpha_deg = np.degrees(alpha_rad)\n",
        "    Cl = 5.75 * alpha_rad  # slope given in per rad\n",
        "    Cd = 0.0113 + 1.25 * (alpha_rad ** 2)\n",
        "    return Cl, Cd"
      ],
      "metadata": {
        "id": "aDAxE2yGPen5"
      },
      "execution_count": null,
      "outputs": []
    },
    {
      "cell_type": "code",
      "source": [
        "\n",
        "# -------------------------------\n",
        "# Part 4: Quick Test\n",
        "# -------------------------------\n",
        "\n",
        "# Atmosphere check at sea level and 2000 m\n",
        "for h in [0, 2000]:\n",
        "    T, p, rho, a = atmosphere(h)\n",
        "    print(f\"Altitude: {h} m | T={T:.2f} K | p={p:.1f} Pa | rho={rho:.3f} kg/m3 | a={a:.1f} m/s\")\n",
        "\n",
        "# Airfoil check for small angles of attack\n",
        "alphas = np.radians(np.linspace(-10, 15, 6))  # -10° to +15°\n",
        "for alpha in alphas:\n",
        "    Cl, Cd = airfoil_coeff(alpha)\n",
        "    print(f\"alpha={np.degrees(alpha):.1f} deg | Cl={Cl:.3f} | Cd={Cd:.4f}\")"
      ],
      "metadata": {
        "id": "uSpPflhCPh1f"
      },
      "execution_count": null,
      "outputs": []
    },
    {
      "cell_type": "code",
      "source": [
        "# -------------------------------\n",
        "# Blade Geometry (linear taper + twist)\n",
        "# -------------------------------\n",
        "def blade_geometry(r, R, c_root, c_tip, theta_root, theta_tip, r_cutout=0.1):\n",
        "    if r < r_cutout:\n",
        "        return 0, 0\n",
        "    c = c_root + (c_tip - c_root) * (r - r_cutout) / (R - r_cutout)\n",
        "    theta = theta_root + (theta_tip - theta_root) * (r - r_cutout) / (R - r_cutout)\n",
        "    return c, theta"
      ],
      "metadata": {
        "id": "oRwlQVCDS-Ni"
      },
      "execution_count": null,
      "outputs": []
    },
    {
      "cell_type": "code",
      "source": [
        "# -------------------------------\n",
        "# Prandtl Tip Loss Factor\n",
        "# -------------------------------\n",
        "def prandtl_tip_loss(B, r, R, phi):\n",
        "    if abs(np.sin(phi)) < 1e-6:   # avoid division by zero\n",
        "        return 1.0\n",
        "    f = (B/2) * (R - r) / (r * np.sin(phi))\n",
        "    val = np.exp(-f)\n",
        "    val = np.clip(val, 0.0, 1.0)  # ensure inside [0,1]\n",
        "    F = (2/np.pi) * np.arccos(val)\n",
        "    return max(F, 1e-3)  # avoid F = 0\n"
      ],
      "metadata": {
        "id": "BZ_lbCeMdJzc"
      },
      "execution_count": null,
      "outputs": []
    },
    {
      "cell_type": "code",
      "source": [
        "def bemt_section(r, R, b, Omega, rho, climb_vel,\n",
        "                 c, theta, max_iter=100, tol=1e-5, debug=False):\n",
        "    \"\"\"\n",
        "    Solve induced velocity and sectional forces at a given radius using BEMT (iterative BET–MT matching).\n",
        "    \"\"\"\n",
        "    lambd = 0.1  # initial guess\n",
        "\n",
        "    for i in range(max_iter):\n",
        "        UT = Omega * r\n",
        "        UP = climb_vel + lambd * Omega * R\n",
        "        phi = np.arctan2(UP, UT)\n",
        "\n",
        "        # AoA (sign convention fix)\n",
        "        alpha = theta + phi\n",
        "        Cl, Cd = airfoil_coeff(alpha)\n",
        "\n",
        "        U = np.sqrt(UT**2 + UP**2)\n",
        "\n",
        "        # BET forces\n",
        "        dL = 0.5 * rho * U**2 * c * Cl\n",
        "        dD = 0.5 * rho * U**2 * c * Cd\n",
        "        dT_bet = dL * np.cos(phi) - dD * np.sin(phi)\n",
        "        dQ_bet = r * (dD * np.cos(phi) + dL * np.sin(phi))\n",
        "\n",
        "        # Momentum theory thrust\n",
        "        F = max(prandtl_tip_loss(b, r, R, phi), 1e-3)\n",
        "        v = lambd * Omega * R\n",
        "        dT_mt = 4 * np.pi * r * rho * (climb_vel + v) * v * F\n",
        "\n",
        "        # Update λ with relaxation\n",
        "        if dT_mt > 1e-6:\n",
        "            lambd_new = lambd + 0.1 * ((dT_bet - dT_mt) / dT_mt)\n",
        "        else:\n",
        "            lambd_new = lambd\n",
        "\n",
        "        # Debug print\n",
        "        # print(f\"iter={i}, λ={lambd:.4f}, φ={np.degrees(phi):.2f}, dT_BET={dT_bet:.2f}, dT_MT={dT_mt:.2f}\")\n",
        "\n",
        "        # Convergence check\n",
        "        if abs(lambd_new - lambd) < tol:\n",
        "            lambd = lambd_new\n",
        "            break\n",
        "        lambd = lambd_new\n",
        "\n",
        "    return dT_bet, dQ_bet, phi, lambd\n"
      ],
      "metadata": {
        "id": "q-_saIx2d11H"
      },
      "execution_count": null,
      "outputs": []
    },
    {
      "cell_type": "code",
      "source": [
        "r = 0.3     # m (example radial station)\n",
        "R = 0.762   # m (rotor radius)\n",
        "b = 3       # blades\n",
        "Omega = 2500 * 2*np.pi / 60  # rad/s\n",
        "rho = 1.225\n",
        "climb_vel = 0.0\n",
        "c = 0.05    # chord\n",
        "theta = np.radians(10)  # pitch\n",
        "\n",
        "dT, dQ, phi, lambd = bemt_section(r, R, b, Omega, rho, climb_vel, c, theta)\n",
        "print(\"Sectional thrust =\", dT, \"N/m\")\n",
        "print(\"Sectional torque =\", dQ, \"Nm/m\")\n",
        "print(\"Inflow angle φ =\", np.degrees(phi), \"deg\")\n",
        "print(\"Lambda =\", lambd)\n"
      ],
      "metadata": {
        "colab": {
          "base_uri": "https://localhost:8080/"
        },
        "id": "-sRnkzSIeOsn",
        "outputId": "ab763b93-4d1c-42d2-cf94-d7e1101669ef"
      },
      "execution_count": null,
      "outputs": [
        {
          "output_type": "stream",
          "name": "stdout",
          "text": [
            "Sectional thrust = 365.3131901791488 N/m\n",
            "Sectional torque = 26.877629952225945 Nm/m\n",
            "Inflow angle φ = 9.26592507149323 deg\n",
            "Lambda = 0.01241065012651952\n"
          ]
        }
      ]
    },
    {
      "cell_type": "code",
      "source": [],
      "metadata": {
        "id": "dtCYcaJve0mx"
      },
      "execution_count": null,
      "outputs": []
    }
  ]
}